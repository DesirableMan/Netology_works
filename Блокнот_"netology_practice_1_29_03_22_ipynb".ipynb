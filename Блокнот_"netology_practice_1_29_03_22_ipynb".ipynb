{
  "nbformat": 4,
  "nbformat_minor": 0,
  "metadata": {
    "colab": {
      "name": "Блокнот \"netology_practice_1_29_03_22.ipynb\"",
      "provenance": [],
      "collapsed_sections": [],
      "include_colab_link": true
    },
    "kernelspec": {
      "name": "python3",
      "display_name": "Python 3"
    },
    "language_info": {
      "name": "python"
    }
  },
  "cells": [
    {
      "cell_type": "markdown",
      "metadata": {
        "id": "view-in-github",
        "colab_type": "text"
      },
      "source": [
        "<a href=\"https://colab.research.google.com/github/SakVla/home_work/blob/main/%D0%91%D0%BB%D0%BE%D0%BA%D0%BD%D0%BE%D1%82_%22netology_practice_1_29_03_22_ipynb%22.ipynb\" target=\"_parent\"><img src=\"https://colab.research.google.com/assets/colab-badge.svg\" alt=\"Open In Colab\"/></a>"
      ]
    },
    {
      "cell_type": "markdown",
      "metadata": {
        "id": "edQI-m-cCgpV"
      },
      "source": [
        "# Практика 1  \n",
        "Теория: Основы Python, введение в типы данных и циклы\n",
        "\n",
        "Булыгин Олег:  \n",
        "* [LinkedIn](linkedin.com/in/obulygin)  \n",
        "* [Telegram](https://t.me/obulygin91)  \n",
        "* [Vk](vk.com/obulygin91)  \n",
        "* email: obulygin91@ya.ru  \n",
        "\n",
        "[Сообщество по Python](https://yandex.ru/q/loves/pythontalk/) на Кью  \n",
        "[Сообщество по Data Science и анализу данных](https://yandex.ru/q/loves/datatalk/) на Кью "
      ]
    },
    {
      "cell_type": "markdown",
      "metadata": {
        "id": "yeFs_dLk5YJW"
      },
      "source": [
        "## PEP\n",
        "\n",
        "PEP (python enhanced proposal — заявки на улучшение языка python)."
      ]
    },
    {
      "cell_type": "markdown",
      "metadata": {
        "id": "hQ_c5hAl5eNt"
      },
      "source": [
        "PEP20 – Zen of Python\n",
        "\n",
        "Python придерживается философии, которую сформулировал Тим Петерс в 19 принципах. Её текст выдаётся интерпретатором Python по команде `import this`."
      ]
    },
    {
      "cell_type": "code",
      "metadata": {
        "id": "ANmgIu_25FK9"
      },
      "source": [
        "import this"
      ],
      "execution_count": null,
      "outputs": []
    },
    {
      "cell_type": "code",
      "source": [
        "# my_list = [5, 3, 2, 1, 7]\n",
        "# print(my_list.index(1))"
      ],
      "metadata": {
        "id": "RtDJlP-xdJju"
      },
      "execution_count": null,
      "outputs": []
    },
    {
      "cell_type": "markdown",
      "metadata": {
        "id": "9G-RZWKR5t71"
      },
      "source": [
        "PEP8\n",
        "\n",
        "PEP8 – соглашение о том, как писать код для языка python.\n",
        "Ключевая идея такова: код читается намного больше раз, чем пишется. Собственно, рекомендации о стиле написания кода направлены на то, чтобы улучшить читаемость кода и сделать его согласованным между большим числом проектов. В идеале, весь код будет написан в едином стиле, и любой сможет легко его прочесть.\n",
        "\n",
        "https://pythonworld.ru/osnovy/pep-8-rukovodstvo-po-napisaniyu-koda-na-python.html\n",
        "\n",
        "http://pep8online.com/"
      ]
    },
    {
      "cell_type": "markdown",
      "metadata": {
        "id": "PY_n-RlR54ON"
      },
      "source": [
        "## Краткая запись односложных условий из if и else"
      ]
    },
    {
      "cell_type": "code",
      "metadata": {
        "id": "D2owehr25SCh"
      },
      "source": [
        "# это стандартная запись\n",
        "\n",
        "num = 6\n",
        "\n",
        "if num % 2 == 0:\n",
        "    print('even')\n",
        "else:\n",
        "    print('odd')"
      ],
      "execution_count": null,
      "outputs": []
    },
    {
      "cell_type": "code",
      "metadata": {
        "id": "SG4lSwW46IPf"
      },
      "source": [
        "# можно записать и так, если в условии только if\n",
        "if num % 2 == 0: print('even') "
      ],
      "execution_count": null,
      "outputs": []
    },
    {
      "cell_type": "code",
      "metadata": {
        "id": "pf8KAcfm6MGE"
      },
      "source": [
        "# если в условии и if и else, то можно так\n",
        "print('even') if num % 2 == 0 else print('odd')"
      ],
      "execution_count": null,
      "outputs": []
    },
    {
      "cell_type": "markdown",
      "metadata": {
        "id": "AMHNsoZd59w2"
      },
      "source": [
        "## Изменяемые и неизменяемые типы данных"
      ]
    },
    {
      "cell_type": "code",
      "metadata": {
        "id": "Ndf43O1F6ZSj"
      },
      "source": [
        "some_names = ['John', 'James', 'Linda']  "
      ],
      "execution_count": null,
      "outputs": []
    },
    {
      "cell_type": "code",
      "source": [
        "# 'some_str'.replace('s', 'S')"
      ],
      "metadata": {
        "id": "0pRxlsq8f3U6"
      },
      "execution_count": null,
      "outputs": []
    },
    {
      "cell_type": "code",
      "source": [
        "res = some_names.sort()\n",
        "\n",
        "print(res)"
      ],
      "metadata": {
        "id": "eVcXDhbxf3Xc"
      },
      "execution_count": null,
      "outputs": []
    },
    {
      "cell_type": "code",
      "source": [
        "some_names.sort()\n",
        "\n",
        "some_names"
      ],
      "metadata": {
        "id": "-x1auQZviBko"
      },
      "execution_count": null,
      "outputs": []
    },
    {
      "cell_type": "code",
      "source": [
        "some_str = 'Hello world'\n",
        "\n",
        "res_2 = some_str.upper()\n",
        "print(res_2)"
      ],
      "metadata": {
        "id": "UySZXN1Jhpaj"
      },
      "execution_count": null,
      "outputs": []
    },
    {
      "cell_type": "code",
      "source": [
        "res_3 = sorted(some_names)\n",
        "\n",
        "print(res_3)"
      ],
      "metadata": {
        "id": "koVIaLZ7iaW7"
      },
      "execution_count": null,
      "outputs": []
    },
    {
      "cell_type": "code",
      "source": [
        "my_copy = some_names[:]\n",
        "print(my_copy)"
      ],
      "metadata": {
        "id": "S3lQpgpIiuOL"
      },
      "execution_count": null,
      "outputs": []
    },
    {
      "cell_type": "markdown",
      "metadata": {
        "id": "HDq-QZ_UwPDr"
      },
      "source": [
        "## [f-строки](https://python-scripts.com/f-strings)\n",
        "\n",
        "Добавляя префикс f к строке можно встраивать в нее произвольные выражения при помощи фигурных скобок – { }."
      ]
    },
    {
      "cell_type": "markdown",
      "metadata": {
        "id": "kohJ7Byxirex"
      },
      "source": [
        "Можно разделять периоды чисел любым разделителем"
      ]
    },
    {
      "cell_type": "code",
      "metadata": {
        "colab": {
          "base_uri": "https://localhost:8080/"
        },
        "id": "nb0QYsTZiiGe",
        "outputId": "316e051b-ab0a-440b-fe5b-ee78b98be404"
      },
      "source": [
        "year_salary = 10000000\n",
        "\n",
        "f_string = f\"Годовая зарплата: ${year_salary :,}\"\n",
        "print(f_string)"
      ],
      "execution_count": null,
      "outputs": [
        {
          "output_type": "stream",
          "name": "stdout",
          "text": [
            "Годовая зарплата: $10,000,000\n"
          ]
        }
      ]
    },
    {
      "cell_type": "markdown",
      "metadata": {
        "id": "vNJl0kXqh8G9"
      },
      "source": [
        "Можно представлять числа с округлением до нужного количества знаков"
      ]
    },
    {
      "cell_type": "code",
      "metadata": {
        "id": "B0d8X-PmwPDs",
        "colab": {
          "base_uri": "https://localhost:8080/"
        },
        "outputId": "d894260a-b61a-4352-d1cc-5179ba38e964"
      },
      "source": [
        "pi_value = 3.141592653589793\n",
        "\n",
        "print(f\"Число Пи: {pi_value :.2f}\")"
      ],
      "execution_count": null,
      "outputs": [
        {
          "output_type": "stream",
          "name": "stdout",
          "text": [
            "Число Пи: 3.14\n"
          ]
        }
      ]
    },
    {
      "cell_type": "markdown",
      "metadata": {
        "id": "f4v3QryyiWCA"
      },
      "source": [
        "И много чего [еще](https://saralgyaan.com/posts/f-string-in-python-usage-guide/)"
      ]
    },
    {
      "cell_type": "markdown",
      "metadata": {
        "id": "gAgqIV6fdb-i"
      },
      "source": [
        "## Практика\n",
        "\n",
        "Выведите результат в виде:\n",
        "```\n",
        "Pluto weighs about 1.3e+22 kilograms (0.218% of Earth's mass). It is home to 52,910,390 Plutonians.\n",
        "```"
      ]
    },
    {
      "cell_type": "code",
      "metadata": {
        "id": "aVeAnbGqdbaH"
      },
      "source": [
        "planet = 'pluto'\n",
        "pluto_mass = 1.303 * 10**22\n",
        "earth_mass = 5.9722 * 10**24\n",
        "population = 52910390"
      ],
      "execution_count": null,
      "outputs": []
    },
    {
      "cell_type": "code",
      "metadata": {
        "id": "niMc9wUIyMFa",
        "colab": {
          "base_uri": "https://localhost:8080/"
        },
        "outputId": "b63d7a5d-b0b7-4db8-c766-e9bf1cb87479"
      },
      "source": [
        "print(f\"{planet} weighs about {pluto_mass :.1e} kilograms ({pluto_mass/earth_mass :.3%} of Earth's mass). It is home to {population :,} Plutonians\")"
      ],
      "execution_count": null,
      "outputs": [
        {
          "output_type": "stream",
          "name": "stdout",
          "text": [
            "pluto weighs about 1.3e+22 kilograms (0.218% of Earth's mass). It is home to 52,910,390 Plutonians\n"
          ]
        }
      ]
    },
    {
      "cell_type": "code",
      "source": [
        "print(f\"{planet.title()} weighs about {pluto_mass :.1e} kilograms ({pluto_mass / earth_mass :.3%} of Earth's mass). It is home to {population :} Plutonians. \")"
      ],
      "metadata": {
        "colab": {
          "base_uri": "https://localhost:8080/",
          "height": 186
        },
        "id": "fh_XdLT-l1Hv",
        "outputId": "348fb69a-6453-4144-8066-f90a8ad99a38"
      },
      "execution_count": null,
      "outputs": [
        {
          "output_type": "error",
          "ename": "ValueError",
          "evalue": "ignored",
          "traceback": [
            "\u001b[0;31m---------------------------------------------------------------------------\u001b[0m",
            "\u001b[0;31mValueError\u001b[0m                                Traceback (most recent call last)",
            "\u001b[0;32m<ipython-input-34-2bb6ed596931>\u001b[0m in \u001b[0;36m<module>\u001b[0;34m()\u001b[0m\n\u001b[0;32m----> 1\u001b[0;31m \u001b[0mprint\u001b[0m\u001b[0;34m(\u001b[0m\u001b[0;34mf\"{planet.title()} weighs about {pluto_mass :.1e} kilograms ({pluto_mass / earth_mass :.3%} of Earth's mass). It is home to {population :  } Plutonians. \"\u001b[0m\u001b[0;34m)\u001b[0m\u001b[0;34m\u001b[0m\u001b[0;34m\u001b[0m\u001b[0m\n\u001b[0m",
            "\u001b[0;31mValueError\u001b[0m: Unknown format code '\\x20' for object of type 'int'"
          ]
        }
      ]
    },
    {
      "cell_type": "markdown",
      "metadata": {
        "id": "rLyLP81sEeYY"
      },
      "source": [
        "## Гипотеза Сиракуз\n",
        "\n",
        "Гипотеза Сиракуз гласит, что любое натуральное число сводится к единице при следующих действиях над ним: \n",
        "\n",
        "а) если число четное, то разделить его пополам, \n",
        "\n",
        "б) если число нечетное, то умножить его на 3, прибавить 1 и результат разделить на 2. \n",
        "\n",
        "Над вновь полученным числом вновь повторить действия a) или б) в зависимости от четности числа. Рано или поздно число станет равным 1.\n",
        "\n",
        "Напишем программу, проверяющую гипотезу Сиракуз. Пусть пользователь вводит любое натуральное число. Будем выполнять в цикле над ним вышеуказанные действия, пока оно не станет равным 1. Если гипотеза верна, то рано или поздно цикл закончится, а если нет - то произойдет зацикливание программы."
      ]
    },
    {
      "cell_type": "code",
      "metadata": {
        "id": "fNPueODdEeYY",
        "colab": {
          "base_uri": "https://localhost:8080/"
        },
        "outputId": "03963b20-88d5-49f7-d438-47fddad9a2a6"
      },
      "source": [
        "number = 9438764396739473467934634734673474745457\n",
        "counter = 0\n",
        "while number != 1:\n",
        "    counter += 1\n",
        "    if number % 2 == 0:\n",
        "        number /= 2\n",
        "    else:\n",
        "        number = (number * 3 + 1) / 2\n",
        "    # print(number)\n",
        "\n",
        "print(number, counter)"
      ],
      "execution_count": null,
      "outputs": [
        {
          "output_type": "stream",
          "name": "stdout",
          "text": [
            "1.0 393\n"
          ]
        }
      ]
    },
    {
      "cell_type": "markdown",
      "metadata": {
        "id": "E6ywQi0G5-o1"
      },
      "source": [
        "## else и циклы"
      ]
    },
    {
      "cell_type": "markdown",
      "source": [
        "Напишем игру \"Угадай число\""
      ],
      "metadata": {
        "id": "rrt2CXpIxlJz"
      }
    },
    {
      "cell_type": "code",
      "source": [
        "import random\n",
        "\n",
        "number = random.randint(1, 100)\n",
        "print(number)\n",
        "max_tries = 3\n",
        "tries = 0\n",
        "\n",
        "while tries < max_tries:\n",
        "    guess = int(input('Назови свой вариант'))\n",
        "    if guess < number:\n",
        "        print('Загаданное число больше')\n",
        "    elif guess > number:\n",
        "        print('Загаданное число меньше')\n",
        "    else:\n",
        "        print('Вы победили!')\n",
        "        break\n",
        "    tries += 1\n",
        "else: \n",
        "    print('Вы проиграли')\n",
        "    print('Было загадано число:', number)"
      ],
      "metadata": {
        "colab": {
          "base_uri": "https://localhost:8080/"
        },
        "id": "8oU2aES0g53U",
        "outputId": "24e952d4-4733-4605-913d-a8427b843f1f"
      },
      "execution_count": null,
      "outputs": [
        {
          "output_type": "stream",
          "name": "stdout",
          "text": [
            "85\n",
            "Назови свой вариант45457\n",
            "Загаданное число меньше\n",
            "Назови свой вариант56\n",
            "Загаданное число больше\n",
            "Назови свой вариант56\n",
            "Загаданное число больше\n",
            "Вы проиграли\n",
            "Было загадано число: 85\n"
          ]
        }
      ]
    },
    {
      "cell_type": "markdown",
      "metadata": {
        "id": "QNfWgqNZEeYb"
      },
      "source": [
        "Напишем программу для проверки логина и пароля\n",
        "\n",
        "1) логин и пароль пользователя хранится в переменной\n",
        "\n",
        "2) будем давать пользователю k попыток на ввод логина и пароля\n",
        "\n",
        "3) если после трех попыток вверного ввода не было, то заблокируем вход - вывести на экран сообщение \"Вход заблокирован\"\n",
        "\n",
        "4) если пароль и логин были введены верно, то вывести на экран сообщение \"Добро пожаловать!\""
      ]
    },
    {
      "cell_type": "code",
      "metadata": {
        "id": "WPYGThD8EeYb",
        "colab": {
          "base_uri": "https://localhost:8080/"
        },
        "outputId": "0584edf9-2480-4cf9-d9b5-09078bb7636d"
      },
      "source": [
        "login_correct = 'admin'\n",
        "pswd_correct = 'admin'\n",
        "k = 3\n",
        "for i in range(0, k):\n",
        "    login = input('Ввелите логин')\n",
        "    pswd = input('Введите пароль')\n",
        "    if login != login_correct or pswd != pswd_correct:\n",
        "        k -= 1\n",
        "        print(f'Осталось {k} попытки')\n",
        "    else:\n",
        "        print('Добро пожаловать!')\n",
        "        break\n",
        "else:\n",
        "    print('Вход заблокирован')"
      ],
      "execution_count": null,
      "outputs": [
        {
          "output_type": "stream",
          "name": "stdout",
          "text": [
            "Ввелите логинsdeg\n",
            "Введите парольsdg\n",
            "Осталось 2 попытки\n",
            "Ввелите логин433456\n",
            "Введите парольfgfgjh\n",
            "Осталось 1 попытки\n",
            "Ввелите логинadmin\n",
            "Введите пароль346gh\n",
            "Осталось 0 попытки\n",
            "Вход заблокирован\n"
          ]
        }
      ]
    },
    {
      "cell_type": "markdown",
      "metadata": {
        "id": "XQe7nsuY__r7"
      },
      "source": [
        "## Практика\n",
        "\n",
        "Определите длину каждого из этих списков"
      ]
    },
    {
      "cell_type": "code",
      "metadata": {
        "id": "TkYg2RmtA66L"
      },
      "source": [
        "a = [1, 2, 3]\n",
        "b = [1, [2, 3]]\n",
        "c = []\n",
        "d = [1, 2, 3][1:]"
      ],
      "execution_count": null,
      "outputs": []
    },
    {
      "cell_type": "markdown",
      "metadata": {
        "id": "v23yWHR_7yO3"
      },
      "source": [
        "## Практика\n",
        " Выведем на экран список всех слов длиннее n букв из текста"
      ]
    },
    {
      "cell_type": "code",
      "metadata": {
        "id": "ZfRx-Pag7wjm"
      },
      "source": [
        "text = 'Python — высокоуровневый язык программирования, ориентированный на повышение производительности разработчика и читаемости кода.'\n",
        "n = 4"
      ],
      "execution_count": null,
      "outputs": []
    },
    {
      "cell_type": "code",
      "metadata": {
        "id": "0SwJmvOG8FVs",
        "colab": {
          "base_uri": "https://localhost:8080/"
        },
        "outputId": "fee32994-860e-42b5-c4d1-d8720d6d4820"
      },
      "source": [
        "words = []\n",
        "\n",
        "splitted_text = text.split()\n",
        "\n",
        "for word in splitted_text:\n",
        "    word = word.strip(',.—')\n",
        "    if len(word) > n:\n",
        "       words.append(word) \n",
        "print(words)"
      ],
      "execution_count": null,
      "outputs": [
        {
          "output_type": "stream",
          "name": "stdout",
          "text": [
            "['Python', 'высокоуровневый', 'программирования', 'ориентированный', 'повышение', 'производительности', 'разработчика', 'читаемости']\n"
          ]
        }
      ]
    },
    {
      "cell_type": "markdown",
      "metadata": {
        "id": "1dYKDsmV_U4o"
      },
      "source": [
        "## Сумма элементов по главной диагонали в матрице"
      ]
    },
    {
      "cell_type": "code",
      "metadata": {
        "id": "XcpgxMI19KLl"
      },
      "source": [
        "data = [\n",
        "    [13, 25, 23, 34],\n",
        "    [45, 32, 44, 47],\n",
        "    [12, 33, 23, 95],\n",
        "    [13, 53, 34, 35]\n",
        "]"
      ],
      "execution_count": null,
      "outputs": []
    },
    {
      "cell_type": "code",
      "metadata": {
        "id": "tSlpdpFf9S7x",
        "colab": {
          "base_uri": "https://localhost:8080/"
        },
        "outputId": "841326a0-c81d-41b9-fd9e-f31c2df8dfdb"
      },
      "source": [
        "sum_ = 0\n",
        "index = -1\n",
        "for row in data:\n",
        "    print(row)\n",
        "    sum_ += row[index]\n",
        "    index += 1\n",
        "\n",
        "print(sum_)"
      ],
      "execution_count": null,
      "outputs": [
        {
          "output_type": "stream",
          "name": "stdout",
          "text": [
            "124\n"
          ]
        }
      ]
    },
    {
      "cell_type": "markdown",
      "metadata": {
        "id": "PkzrJqs29V7z"
      },
      "source": [
        "## Практика\n",
        "Посчитайте сумму элементов по **обратной** диагонали в квадратной матрице"
      ]
    },
    {
      "cell_type": "code",
      "metadata": {
        "id": "Jd5l2Kca9VC_"
      },
      "source": [
        "sum_ = 0\n",
        "index = -1\n",
        "for row in data:\n",
        "    sum_ += row[index]\n",
        "    index -= 1\n",
        "\n",
        "print(sum_)"
      ],
      "execution_count": null,
      "outputs": []
    },
    {
      "cell_type": "markdown",
      "metadata": {
        "id": "ZhsS0uFL_J9l"
      },
      "source": [
        "## Выведем фамилии построчно с указанием профессии в виде:\n",
        "```\n",
        "IT:  \n",
        "Гейтс  \n",
        "Джобс  \n",
        "Возняк  \n",
        "\n",
        "Физика:  \n",
        "Эйнштейн  \n",
        "Фейнман  \n",
        "\n",
        "Математика:  \n",
        "Эвклид  \n",
        "Ньютон\n",
        "```\n",
        "\n"
      ]
    },
    {
      "cell_type": "code",
      "metadata": {
        "id": "z4y6_PVy_S0v"
      },
      "source": [
        "professions = ['IT', 'Физика', 'Математика']\n",
        "persons = [['Гейтс', 'Джобс', 'Возняк'], ['Эйнштейн', 'Фейнман'], ['Эвклид', 'Ньютон']]"
      ],
      "execution_count": null,
      "outputs": []
    },
    {
      "cell_type": "code",
      "source": [
        "for el in zip(professions, persons):\n",
        "    print(f'{el[0]}:')\n",
        "    for name in el[1]:\n",
        "        print(name)\n",
        "    print()"
      ],
      "metadata": {
        "colab": {
          "base_uri": "https://localhost:8080/"
        },
        "id": "_KB7M0lLySlt",
        "outputId": "39146b91-546f-4c91-f545-47915dfb3120"
      },
      "execution_count": null,
      "outputs": [
        {
          "output_type": "stream",
          "name": "stdout",
          "text": [
            "IT:\n",
            "Гейтс\n",
            "Джобс\n",
            "Возняк\n",
            "\n",
            "Физика:\n",
            "Эйнштейн\n",
            "Фейнман\n",
            "\n",
            "Математика:\n",
            "Эвклид\n",
            "Ньютон\n",
            "\n"
          ]
        }
      ]
    },
    {
      "cell_type": "code",
      "source": [
        "'!!!!!'.join(professions)"
      ],
      "metadata": {
        "colab": {
          "base_uri": "https://localhost:8080/",
          "height": 36
        },
        "id": "iyFS3CntxjhG",
        "outputId": "10cf8f19-b253-4a5a-a740-2c9e3eec4158"
      },
      "execution_count": null,
      "outputs": [
        {
          "output_type": "execute_result",
          "data": {
            "text/plain": [
              "'IT!!!!!Физика!!!!!Математика'"
            ],
            "application/vnd.google.colaboratory.intrinsic+json": {
              "type": "string"
            }
          },
          "metadata": {},
          "execution_count": 70
        }
      ]
    },
    {
      "cell_type": "code",
      "metadata": {
        "id": "4dXBJV0D_Pr3",
        "colab": {
          "base_uri": "https://localhost:8080/"
        },
        "outputId": "6172e297-315a-4b3b-b882-48bfec46bb39"
      },
      "source": [
        "for pro, names in zip(professions, persons):\n",
        "    print(f'{pro}:')\n",
        "    for name in names:\n",
        "        print(name)\n",
        "    print()"
      ],
      "execution_count": null,
      "outputs": [
        {
          "output_type": "stream",
          "name": "stdout",
          "text": [
            "IT:\n",
            "Гейтс\n",
            "Джобс\n",
            "Возняк\n",
            "\n",
            "Физика:\n",
            "Эйнштейн\n",
            "Фейнман\n",
            "\n",
            "Математика:\n",
            "Эвклид\n",
            "Ньютон\n",
            "\n"
          ]
        }
      ]
    },
    {
      "cell_type": "markdown",
      "metadata": {
        "id": "4sIiydRs_u2V"
      },
      "source": [
        "### Практика\n",
        "Получим такой же результат без вложенного цикла"
      ]
    },
    {
      "cell_type": "code",
      "metadata": {
        "id": "GDL5bUiV_Wz2",
        "colab": {
          "base_uri": "https://localhost:8080/"
        },
        "outputId": "65ac6c70-20b0-4a92-db21-01255a196a44"
      },
      "source": [
        "for pro, names in zip(professions, persons):\n",
        "    print(pro, ':', sep = '')\n",
        "    print('\\n'.join(names))\n",
        "    print()"
      ],
      "execution_count": null,
      "outputs": [
        {
          "output_type": "stream",
          "name": "stdout",
          "text": [
            "IT:\n",
            "Гейтс\n",
            "Джобс\n",
            "Возняк\n",
            "\n",
            "Физика:\n",
            "Эйнштейн\n",
            "Фейнман\n",
            "\n",
            "Математика:\n",
            "Эвклид\n",
            "Ньютон\n",
            "\n"
          ]
        }
      ]
    },
    {
      "cell_type": "code",
      "source": [
        "for pro, names in zip(professions, persons):\n",
        "    print(f'{pro}:')\n",
        "    print(*names, sep='\\n')    \n",
        "    print()\n"
      ],
      "metadata": {
        "colab": {
          "base_uri": "https://localhost:8080/"
        },
        "id": "zISCAbWWxyTG",
        "outputId": "f303830a-6dd7-42a3-eb4c-1444dfadbeae"
      },
      "execution_count": null,
      "outputs": [
        {
          "output_type": "stream",
          "name": "stdout",
          "text": [
            "IT:\n",
            "Гейтс\n",
            "Джобс\n",
            "Возняк\n",
            "\n",
            "Физика:\n",
            "Эйнштейн\n",
            "Фейнман\n",
            "\n",
            "Математика:\n",
            "Эвклид\n",
            "Ньютон\n",
            "\n"
          ]
        }
      ]
    },
    {
      "cell_type": "code",
      "source": [
        "False == False in [False, True] "
      ],
      "metadata": {
        "colab": {
          "base_uri": "https://localhost:8080/"
        },
        "id": "KOFllbXD0Vyu",
        "outputId": "b94ec441-31a8-4115-e5e8-0d4644759e65"
      },
      "execution_count": null,
      "outputs": [
        {
          "output_type": "execute_result",
          "data": {
            "text/plain": [
              "True"
            ]
          },
          "metadata": {},
          "execution_count": 86
        }
      ]
    },
    {
      "cell_type": "code",
      "source": [
        "0 == 0 in [0]"
      ],
      "metadata": {
        "colab": {
          "base_uri": "https://localhost:8080/"
        },
        "id": "GN6nELrK0kB_",
        "outputId": "f2db8281-bda9-4312-be30-1cb66fabaaea"
      },
      "execution_count": null,
      "outputs": [
        {
          "output_type": "execute_result",
          "data": {
            "text/plain": [
              "True"
            ]
          },
          "metadata": {},
          "execution_count": 87
        }
      ]
    },
    {
      "cell_type": "code",
      "source": [
        "False == False in [False]\n",
        "\n",
        "(False == False) and (False in [False])"
      ],
      "metadata": {
        "id": "MRNvliAj1qd1"
      },
      "execution_count": null,
      "outputs": []
    },
    {
      "cell_type": "code",
      "source": [
        ""
      ],
      "metadata": {
        "id": "M6AvfZxR1NuV"
      },
      "execution_count": null,
      "outputs": []
    },
    {
      "cell_type": "code",
      "source": [
        "print(0.15 + 0.15 == 0.3)"
      ],
      "metadata": {
        "colab": {
          "base_uri": "https://localhost:8080/"
        },
        "id": "G4JpMV5DzJGa",
        "outputId": "379f6529-e0ed-4d1b-eab0-8d7e54687df3"
      },
      "execution_count": null,
      "outputs": [
        {
          "output_type": "stream",
          "name": "stdout",
          "text": [
            "True\n"
          ]
        }
      ]
    },
    {
      "cell_type": "code",
      "source": [
        "print(0.1 + 0.15 + 0.05 == 0.1 + 0.1 + 0.1)"
      ],
      "metadata": {
        "colab": {
          "base_uri": "https://localhost:8080/"
        },
        "id": "sfkv1T6QzRar",
        "outputId": "ee3c63c4-9431-4274-c516-ded6e6a780af"
      },
      "execution_count": null,
      "outputs": [
        {
          "output_type": "stream",
          "name": "stdout",
          "text": [
            "False\n"
          ]
        }
      ]
    },
    {
      "cell_type": "code",
      "source": [
        "print(0.1 + 0.15 + 0.05)"
      ],
      "metadata": {
        "colab": {
          "base_uri": "https://localhost:8080/"
        },
        "id": "O2SwVCkfzUOP",
        "outputId": "a7254a00-ffe7-4d4c-97f3-c15017e4b26e"
      },
      "execution_count": null,
      "outputs": [
        {
          "output_type": "stream",
          "name": "stdout",
          "text": [
            "0.3\n"
          ]
        }
      ]
    },
    {
      "cell_type": "code",
      "source": [
        "print(0.1 + 0.1 + 0.1)"
      ],
      "metadata": {
        "colab": {
          "base_uri": "https://localhost:8080/"
        },
        "id": "BZb8oN-JzW8P",
        "outputId": "5fd52b62-e718-4e16-da54-7f6e94621ca5"
      },
      "execution_count": null,
      "outputs": [
        {
          "output_type": "stream",
          "name": "stdout",
          "text": [
            "0.30000000000000004\n"
          ]
        }
      ]
    },
    {
      "cell_type": "markdown",
      "metadata": {
        "id": "aOL5iGS9BlF0"
      },
      "source": [
        "## Рекомендуемые материалы:\n",
        "\n",
        "1. Тренажеры:\n",
        "  - hackerrank.com\n",
        "  - checkio.org\n",
        "  - leetcode.com\n",
        "  - codewars.com\n",
        "  - luxcity.geecko.com\n",
        "\n",
        "2. Литература:\n",
        " - А Byte of Python [англ. версия](https://python.swaroopch.com/), [рус. перевод](https://wombat.org.ua/AByteOfPython/AByteofPythonRussian-2.02.pdf). Легально, бесплатно, без СМС и регистрации.\n",
        " - Адитья Бхаргава, Грокаем алгоритмы. [На бумаге](https://bit.ly/3c4Drq3), [Электронная](https://bit.ly/3IWxklj). Бесплатно сами.\n",
        "\n",
        "3. Визуализатор исполнения кода: http://pythontutor.com/visualize.html#mode=edit\n",
        "\n",
        " Он может очень сильно помочь на начальном этапе изчения Python, когда вы пишите свои собственные программы, но ещё не понимаете как именно работает ваш код. Самые частые ошибки новичков – это непонимание границ выполнения ключевых этапов работы программы. Порой очень хороший код не будет работать из-за одной маленькой ошибки."
      ]
    },
    {
      "cell_type": "markdown",
      "metadata": {
        "id": "n0u7ea-9TC6U"
      },
      "source": [
        "**Установка  и настройка Anaconda**\n",
        "\n",
        "\n",
        "https://www.anaconda.com/distribution/\n",
        "\n",
        "1. Запустите скачанный инсталлятор. В первом появившемся окне необходимо нажать “Next”.\n",
        "2. Далее следует принять лицензионное соглашение.\n",
        "3. Выберете одну из опций установки:\n",
        "\n",
        "    * Just Me – только для пользователя, запустившего установку;\n",
        "    * All Users – для всех пользователей. (для тех, кто планирует выйти за пределы анализа данных)\n",
        "    \n",
        "4. Укажите путь, по которому будет установлена Anaconda.\n",
        "5. Укажите дополнительные опции:\n",
        "\n",
        "    * Add Anaconda to the system PATH environment variable – добавить Anaconda в системную переменную PATH\n",
        "    * Register Anaconda as the system Python  – использовать Anaconda, как интерпретатор Python по умолчанию.\n",
        "\n",
        "6. Для начала установки нажмите на кнопку “Install”\n",
        "7. После установки программы запустите Jupyter Notebook  (наберите его в поиске)\n",
        "8. В результате запустится веб-сервер и среда разработки в браузере.\n",
        "9. Создайте ноутбук для разработки, для этого нажмите на кнопку New (в правом углу окна) и в появившемся списке выберете Python.\n"
      ]
    },
    {
      "cell_type": "markdown",
      "metadata": {
        "id": "O4HbNmr0GcXH"
      },
      "source": [
        "## Ваши вопросы ^_^"
      ]
    },
    {
      "cell_type": "code",
      "metadata": {
        "id": "U8j1kWgjB3If"
      },
      "source": [
        "number_1 = 3\n",
        "number_2 = 3\n",
        "number_3 = 2\n",
        "if number_1 > number_2 and number_1 > number_3:\n",
        "    print('Максимальное число:', number_1)\n",
        "elif number_2 > number_1 and number_2 > number_3:\n",
        "    print('Максимальное число:', number_2)\n",
        "else:\n",
        "    print('Максимальное число:', number_3)"
      ],
      "execution_count": null,
      "outputs": []
    }
  ]
}